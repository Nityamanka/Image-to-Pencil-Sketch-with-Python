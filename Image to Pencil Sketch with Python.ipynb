{
 "cells": [
  {
   "cell_type": "code",
   "execution_count": 1,
   "id": "99f7101c-d8c3-4de8-851b-60fb9abe1cfe",
   "metadata": {},
   "outputs": [],
   "source": [
    "import cv2\n",
    "import os"
   ]
  },
  {
   "cell_type": "code",
   "execution_count": 2,
   "id": "3a489a40-35b6-4559-848b-9b8e25813449",
   "metadata": {},
   "outputs": [],
   "source": [
    "image = cv2.imread(\"C:\\\\Users\\\\nitya\\\\OneDrive\\\\Desktop\\\\jami.jpg\")\n"
   ]
  },
  {
   "cell_type": "code",
   "execution_count": 3,
   "id": "9f2dc216-5279-4c94-9320-40120b37c565",
   "metadata": {},
   "outputs": [],
   "source": [
    "gray_image = cv2.cvtColor(image, cv2.COLOR_RGB2GRAY)\n"
   ]
  },
  {
   "cell_type": "code",
   "execution_count": 4,
   "id": "5f35d471-3afe-447d-a00a-baf48b181b25",
   "metadata": {},
   "outputs": [],
   "source": [
    "inverted = 255 - gray_image\n"
   ]
  },
  {
   "cell_type": "code",
   "execution_count": 5,
   "id": "a364a996-1947-4b94-9079-689cf6607319",
   "metadata": {},
   "outputs": [],
   "source": [
    "blury_image = cv2.GaussianBlur(inverted, (23, 23), 0)\n"
   ]
  },
  {
   "cell_type": "code",
   "execution_count": 6,
   "id": "0127cbea-99f5-4e70-a224-60db9adf5f7b",
   "metadata": {},
   "outputs": [],
   "source": [
    "blury_inverted = 255 - blury_image"
   ]
  },
  {
   "cell_type": "code",
   "execution_count": 7,
   "id": "ff30cf0f-eb3e-44bf-83bd-da8800ad6520",
   "metadata": {},
   "outputs": [],
   "source": [
    "pencil_sketech = cv2.divide(gray_image, blury_inverted, scale = 250)\n"
   ]
  },
  {
   "cell_type": "code",
   "execution_count": 8,
   "id": "80b2cda0-5700-4b05-b1fc-f3a22203bf67",
   "metadata": {},
   "outputs": [],
   "source": [
    "cv2.imshow(\"blury_image\", blury_image)"
   ]
  },
  {
   "cell_type": "code",
   "execution_count": 9,
   "id": "a96f85cb-31a5-4485-94b6-cfa66e3a7ed0",
   "metadata": {},
   "outputs": [],
   "source": [
    "cv2.imshow(\"inverted\", inverted)"
   ]
  },
  {
   "cell_type": "code",
   "execution_count": 10,
   "id": "5be29de0-908c-4f5f-ac07-d15aa6aea502",
   "metadata": {},
   "outputs": [],
   "source": [
    "cv2.imshow(\"gray\", gray_image)"
   ]
  },
  {
   "cell_type": "code",
   "execution_count": 11,
   "id": "23f34cce-851e-4d74-b78c-6f51df014d25",
   "metadata": {},
   "outputs": [],
   "source": [
    "cv2.imshow(\"jami\", image)"
   ]
  },
  {
   "cell_type": "code",
   "execution_count": 12,
   "id": "95c9ac7e-3fae-4056-a8ce-b04da264ca92",
   "metadata": {},
   "outputs": [],
   "source": [
    "cv2.imshow(\"pencil_sketech\", pencil_sketech)"
   ]
  },
  {
   "cell_type": "code",
   "execution_count": 13,
   "id": "05b58fe2-d64c-47d8-9ea2-7bf848fda988",
   "metadata": {},
   "outputs": [
    {
     "data": {
      "text/plain": [
       "True"
      ]
     },
     "execution_count": 13,
     "metadata": {},
     "output_type": "execute_result"
    }
   ],
   "source": [
    "# Save images in JPG format\n",
    "cv2.imwrite(\"saved image.jpg\", pencil_sketech)"
   ]
  },
  {
   "cell_type": "code",
   "execution_count": null,
   "id": "2de05623-4578-4c8a-a520-13fe9f744088",
   "metadata": {},
   "outputs": [],
   "source": [
    "cv2.waitKey(0)"
   ]
  },
  {
   "cell_type": "code",
   "execution_count": null,
   "id": "f536cc9f-5881-4fa1-9d75-2ffb8c63733a",
   "metadata": {},
   "outputs": [],
   "source": []
  }
 ],
 "metadata": {
  "kernelspec": {
   "display_name": "Python 3 (ipykernel)",
   "language": "python",
   "name": "python3"
  },
  "language_info": {
   "codemirror_mode": {
    "name": "ipython",
    "version": 3
   },
   "file_extension": ".py",
   "mimetype": "text/x-python",
   "name": "python",
   "nbconvert_exporter": "python",
   "pygments_lexer": "ipython3",
   "version": "3.9.7"
  }
 },
 "nbformat": 4,
 "nbformat_minor": 5
}
